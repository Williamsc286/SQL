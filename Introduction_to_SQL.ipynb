{
 "cells": [
  {
   "cell_type": "markdown",
   "metadata": {},
   "source": [
    "# Introduction to SQL\n",
    "\n",
    "## SQL (Structured Query Language)\n",
    "\n",
    "**Goals**:\\\n",
    "    - Databases & Structure.\\\n",
    "    - Extract Information from database using SQL.\n",
    "\n",
    "### **Relational databases**\n",
    "1. Define relationships b/t tables of data inside the database. Easy to draw \n",
    "    conclusions and get insights from the data.\n",
    "   (a) Like spreadsheet apps but far more powerful:\n",
    "       (i) Store more data.\n",
    "       (ii) More secure: encryption.\n",
    "       (iii) Many people can use at once\n",
    "   (b) Query: information is accessed & presented based on instructions\n",
    "       (i) SQL For Creating, Querying, and Updating relational databases.\n",
    "       (ii) MySQL is widely used relational database management system.\n",
    "            - Graphical User Interface (GUI) tool like MySQL Workbench, which \n",
    "                can simplify database management and querying.\n",
    "\n",
    "2. Tables – building blocks of databases.\n",
    "    (a)\tRows – Records (unlimited), Columns – Fields (# is limited).\n",
    "    (b)\tManners:\n",
    "        (i)\tTable names: lowercase, no spaces, can be plural.\n",
    "        (ii) A record is a row in a table, w/ an individual observation.\n",
    "            - Identifiers: are used to identify records in a table, unique \n",
    "                    & often #s.\n",
    "        (iii) A field is a col in a table, w/ one piece of infor about all\n",
    "            records. Field name Manners:\n",
    "            -\tLowercase, No spaces, Singular, Be different from other \n",
    "                field names, Be different from the table name.\n",
    "        (iv) More tables for same data is preferred, since combined table \n",
    "            might be less clear & contains duplicate infor.\n",
    "    (c)\tNote: SQL is used to gather & analyze the infor from tables, tables \n",
    "        remain separate.\n",
    "\n",
    "    (d) SQL Data Types for storing different types:\n",
    "        (i) Each field contains all one data type, since:\n",
    "            - Different data types stored differently & take up different space.\n",
    "            - Some opns only apply to certain data types.\n",
    "        (ii) Strings: VARCHAR is a flexible and can store small or large strs.\n",
    "        (iii) integer: INT is a SQL integer data type.\n",
    "        (iv) float: NUMERIC.\n",
    "    (e) Schemas: design of database, showing tables & their relationships & \n",
    "        specifiy datatypes for each field within each table.\n",
    "    (f) Database Storage:\n",
    "        (i) Infor like file in a database stored in the Hard disk of a server.\n",
    "        (ii) Servers are centralized computers that performs services (data access)\n",
    "        via requests made over a network (people work the same time).\n",
    "        (iii) Every computer can be set up as a server.\n",
    "        (iv) Generally huge since need for handle large volume of data and requests.\n",
    "\n",
    "### **Queries**\n",
    "1. SQL is used to answer questions, as a complement to other tools s.a. spreadsheet\n",
    "    apps. Especially for large data w/ complex relationships.\n",
    "    (a) Uncover relationships, like trends in website traffic, customer revs, and \n",
    "        product sales.\n",
    "    (b) Keywords: reserved words for opns.\n",
    "        (i) SELECT: select field names by locating a specific table.\n",
    "            asterisk (*) indicates SELECT all fields of a table.\n",
    "        (ii) FROM: locate table.\n",
    "    (c) semicolon indicates a query is complete.\n",
    "    (d) Result set: Query results. can be saved for collaborators' use."
   ]
  },
  {
   "cell_type": "code",
   "execution_count": null,
   "metadata": {
    "vscode": {
     "languageId": "sql"
    }
   },
   "outputs": [],
   "source": [
    "SELECT *\n",
    "FROM books;"
   ]
  },
  {
   "cell_type": "markdown",
   "metadata": {},
   "source": [
    "2. More Keywords:\n",
    "    (a) Aliasing: 'AS', Rename cols in result set only."
   ]
  },
  {
   "cell_type": "code",
   "execution_count": null,
   "metadata": {
    "vscode": {
     "languageId": "sql"
    }
   },
   "outputs": [],
   "source": [
    "SELECT name AS first_name, year_hired\n",
    "FROM employees;"
   ]
  },
  {
   "cell_type": "markdown",
   "metadata": {},
   "source": [
    "    (b) DISTINCT:\n",
    "        (i) Only display distinct result for a field in one result set.\n",
    "        (ii) Works for multiple fields, only give unique combinations of fields."
   ]
  },
  {
   "cell_type": "code",
   "execution_count": null,
   "metadata": {
    "vscode": {
     "languageId": "sql"
    }
   },
   "outputs": [],
   "source": [
    "SELECT DISTINCT dept_id, year_hired\n",
    "FROM employees;"
   ]
  },
  {
   "cell_type": "markdown",
   "metadata": {},
   "source": [
    "    (c) Views: A view is a virtual table that is the result of a saved SQL SELECT\n",
    "        statement. (assign a result set to it)\n",
    "        (i) No result set when creating. 'CREATE VIEW + name + AS'.\n",
    "        (ii) Automatically update in response to updates in the underlying data.\n",
    "        (iii) Can be queried like a normal table."
   ]
  },
  {
   "cell_type": "code",
   "execution_count": null,
   "metadata": {
    "vscode": {
     "languageId": "sql"
    }
   },
   "outputs": [],
   "source": [
    "CREATE VIEW employee_hire_years AS\n",
    "SELECT id, name, year_hired\n",
    "FROM employees;"
   ]
  },
  {
   "cell_type": "markdown",
   "metadata": {},
   "source": [
    "### **SQL Flavors/Versions**\n",
    "1. Free & Paid(Complement to major databases s.a. Microsoft's SQL Server or Oracle Database)\n",
    "    (a) All used w/ raltional databases.\n",
    "    (b) Majority of Keywords were shared.\n",
    "    (c) All must follow universal standards.\n",
    "    (d) Only the additioinal features on top of these standards make flavors different.\n",
    "2. Two most popular:\n",
    "    (a) PostgreSQL\n",
    "        (i) Free and open-source relational database system.\n",
    "        (ii) UCB created.\n",
    "        (iii) refers to both database system and its associated SQL falvor.\n",
    "    (b) SQL Server\n",
    "        (i) Free and paid(enterprise) versions.\n",
    "        (ii) Microsoft created.\n",
    "        (iii) T-SQL is Microsoft's SQL flavor, used w/ SQL Server databases.\n"
   ]
  },
  {
   "cell_type": "markdown",
   "metadata": {},
   "source": [
    "Example: Comparing PostgreSQL and SQL Server 'limit # of results'.\n",
    "    Difference b/t these flavors is small."
   ]
  },
  {
   "cell_type": "code",
   "execution_count": null,
   "metadata": {
    "vscode": {
     "languageId": "sql"
    }
   },
   "outputs": [],
   "source": [
    "SELECT id, name\n",
    "FROM employees\n",
    "LIMIT 2;"
   ]
  },
  {
   "cell_type": "code",
   "execution_count": null,
   "metadata": {
    "vscode": {
     "languageId": "sql"
    }
   },
   "outputs": [],
   "source": [
    "SELECT TOP(2) id, name\n",
    "FROM employees;"
   ]
  }
 ],
 "metadata": {
  "language_info": {
   "name": "python"
  }
 },
 "nbformat": 4,
 "nbformat_minor": 2
}
