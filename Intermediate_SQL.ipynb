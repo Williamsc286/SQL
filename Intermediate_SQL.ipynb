{
 "cells": [
  {
   "cell_type": "markdown",
   "metadata": {},
   "source": [
    "Intermediate SQL\n",
    "\n",
    "Query: Request data from database.\n",
    "\n",
    "Using PostgreSQL.\n"
   ]
  },
  {
   "cell_type": "code",
   "execution_count": null,
   "metadata": {
    "vscode": {
     "languageId": "sql"
    }
   },
   "outputs": [],
   "source": [
    "-- 1. Using Keywords count & view specified amount of records.\n",
    "-- 2. Execution & Style\n",
    "-- 3. Filtering\n",
    "-- 4. Aggregate functions\n",
    "-- 5. Sorting & Grouping"
   ]
  },
  {
   "cell_type": "markdown",
   "metadata": {},
   "source": [
    "COUNT()"
   ]
  },
  {
   "cell_type": "code",
   "execution_count": null,
   "metadata": {
    "vscode": {
     "languageId": "sql"
    }
   },
   "outputs": [],
   "source": [
    "-- COUNT(field_name): \n",
    "-- # of records w/ a value in a field\n",
    "-- Use an alias for clarify\n",
    "\n",
    "SELECT COUNT(brithdate) AS count_birthdates\n",
    "FROM people;\n",
    "\n",
    "-- COUNT() multiple fields:\n",
    "SELECT COUNT(name) AS count_names, COUNT(birthdate) AS count_birthdates\n",
    "FROM people;\n",
    "\n",
    "-- COUNT(*) countes total records in a table, * reps all fields:\n",
    "SELECT COUNT(*) AS total_records\n",
    "FROM people;"
   ]
  },
  {
   "cell_type": "markdown",
   "metadata": {},
   "source": [
    "DISTINCT"
   ]
  },
  {
   "cell_type": "code",
   "execution_count": null,
   "metadata": {},
   "outputs": [],
   "source": [
    "-- DISTINCT removes duplicates to return only unique values\n",
    "SELECT DISTINCT language\n",
    "FROM films;"
   ]
  },
  {
   "cell_type": "code",
   "execution_count": null,
   "metadata": {
    "vscode": {
     "languageId": "sql"
    }
   },
   "outputs": [],
   "source": [
    "-- COUNT() w/ DISTINCT: Count unique values in the field\n",
    "SELECT COUNT(DISTINCT birthdate) AS count_distinct_birthdates\n",
    "FROM people;"
   ]
  },
  {
   "cell_type": "markdown",
   "metadata": {},
   "source": [
    "Query Execution"
   ]
  },
  {
   "cell_type": "code",
   "execution_count": null,
   "metadata": {
    "vscode": {
     "languageId": "sql"
    }
   },
   "outputs": [],
   "source": [
    "-- SQL is NOT processed in its written order\n",
    "-- Example:\n",
    "SELECT name -- Second, select the target\n",
    "FROM people -- First, find the obj\n",
    "LIMIT 10; -- Last, add cond, limit the # of return results\n",
    "\n",
    "-- Alias AS reference is made (declaration) is made after SELECT processed"
   ]
  },
  {
   "cell_type": "code",
   "execution_count": null,
   "metadata": {
    "vscode": {
     "languageId": "sql"
    }
   },
   "outputs": [],
   "source": [
    "-- Debugging SQL Codes & Read Error msgs\n",
    "-- (1) Misspelling\n",
    "-- (2) Incorrect capitalization\n",
    "-- (3) Incorrect or missing punctuation: comma"
   ]
  },
  {
   "cell_type": "markdown",
   "metadata": {},
   "source": [
    "SQL Style/Formatting"
   ]
  },
  {
   "cell_type": "code",
   "execution_count": null,
   "metadata": {
    "vscode": {
     "languageId": "sql"
    }
   },
   "outputs": [],
   "source": [
    "-- Following formats are fine but not good\n",
    "-- (1) Capitalization\n",
    "select title, release_year, country from films limit 3\n",
    "-- (2) Newlines \n",
    "SELECT\n",
    "    title,\n",
    "    release_year,\n",
    "    country\n",
    "FROM films\n",
    "LIMIT 3;\n",
    "-- (3) Semicolon is unnecessary in PostgreSQL"
   ]
  },
  {
   "cell_type": "code",
   "execution_count": null,
   "metadata": {
    "vscode": {
     "languageId": "sql"
    }
   },
   "outputs": [],
   "source": [
    "-- Dealing w/ non-standard field names\n",
    "-- (1) Put non-standard field names in double-quotes:\n",
    "SELECT title, \"release year\", country\n",
    "FROM films\n",
    "LIMIT 3;"
   ]
  },
  {
   "cell_type": "markdown",
   "metadata": {},
   "source": [
    "Filtering Numbers"
   ]
  },
  {
   "cell_type": "code",
   "execution_count": null,
   "metadata": {
    "vscode": {
     "languageId": "sql"
    }
   },
   "outputs": [],
   "source": [
    "-- WHERE w/ comparison operators\n",
    "\n",
    "SELECT tiitle\n",
    "FROM films\n",
    "WHERE release_year > 1960;\n",
    "\n",
    "-- '<>' means Not equal to\n",
    "SELECT title\n",
    "FROM films\n",
    "WHERE release_year <> 1960;\n",
    "\n",
    "-- WHERE w/ strs, use '' around strs want to filter\n",
    "SELECT title\n",
    "FROM films\n",
    "WHERE country = 'Japan';\n",
    "\n",
    "-- Order of execution: similar to LIMIT & prior to SELECT, after the FROM\n"
   ]
  },
  {
   "cell_type": "markdown",
   "metadata": {},
   "source": [
    "Multiple Criteria: OR, AND, BETWEEN"
   ]
  },
  {
   "cell_type": "code",
   "execution_count": null,
   "metadata": {
    "vscode": {
     "languageId": "sql"
    }
   },
   "outputs": [],
   "source": [
    "-- Enhance WHERE by adding multiple criteria\n",
    "\n",
    "-- OR\n",
    "SELECT *\n",
    "FROM coats\n",
    "WHERE color = 'yellow' OR length = 'short';\n",
    "\n",
    "SELECT *\n",
    "FROM coats\n",
    "WHERE buttons BETWEEN 1 AND 5;\n",
    "\n",
    "\n",
    "SELECT title\n",
    "FROM films\n",
    "WHERE release_year = 1994\n",
    "    OR release_year = 2000;\n"
   ]
  },
  {
   "cell_type": "code",
   "execution_count": null,
   "metadata": {
    "vscode": {
     "languageId": "sql"
    }
   },
   "outputs": [],
   "source": [
    "-- AND, OR for multiple filtering conds w/ '()'\n",
    "SELECT title\n",
    "FROM films\n",
    "WHERE (release_year = 1994 OR release_year = 1995)\n",
    "    AND (certification = 'PG' OR certification = 'R')"
   ]
  },
  {
   "cell_type": "code",
   "execution_count": null,
   "metadata": {
    "vscode": {
     "languageId": "sql"
    }
   },
   "outputs": [],
   "source": [
    "-- BETWEEN, AND\n",
    "-- (1) & (2) are the same:\n",
    "-- (1)\n",
    "SELECT title\n",
    "FROM films\n",
    "WHERE release_year >= 1994\n",
    "    AND release_year <= 2000;\n",
    "-- (2)\n",
    "SELECT title\n",
    "FROM films\n",
    "WHERE release_year\n",
    "    BETWEEN 1994 AND 2000;\n",
    "\n",
    "-- Multiple Criterias for BETWEEN\n",
    "SELECT title\n",
    "FROM films\n",
    "WHERE release_year\n",
    "BETWEEN 1994 AND 2000 AND country='UK'"
   ]
  },
  {
   "cell_type": "markdown",
   "metadata": {},
   "source": [
    "Filtering Text"
   ]
  },
  {
   "cell_type": "code",
   "execution_count": null,
   "metadata": {
    "vscode": {
     "languageId": "sql"
    }
   },
   "outputs": [],
   "source": [
    "-- WHERE can do filter text\n",
    "SELECT title\n",
    "FROM films\n",
    "WHERE country = 'Japan';"
   ]
  },
  {
   "cell_type": "code",
   "execution_count": null,
   "metadata": {
    "vscode": {
     "languageId": "sql"
    }
   },
   "outputs": [],
   "source": [
    "-- Filter a patten rather than specific text\n",
    "-- LIKE, NOT LIKE, IN\n",
    "\n",
    "-- (1) LIKE: search for a pattern in a field\n",
    "--  (i) '%' match zero, one or many chars\n",
    "SELECT name\n",
    "FROM people\n",
    "WHERE name LIKE 'Ade%';\n",
    "--  (ii) '_' match a single char\n",
    "SELECT name\n",
    "FROM people\n",
    "WHERE name LIKE 'Ev_';\n",
    "--  (iii) ends w/\n",
    "SELECT name\n",
    "FROM people\n",
    "WHERE name LIKE '%r';\n",
    "---  (iv) other\n",
    "---  third char is 't'\n",
    "SELECT name \n",
    "FROM people\n",
    "WHERE name LIKE '__t%';\n",
    "\n",
    "-- (2) NOT LIKE\n",
    "SELECT name\n",
    "FROM people\n",
    "WHERE name NOT LIKE 'A.%';\n"
   ]
  },
  {
   "cell_type": "code",
   "execution_count": null,
   "metadata": {
    "vscode": {
     "languageId": "sql"
    }
   },
   "outputs": [],
   "source": [
    "-- Select multiple OR after WHERE can cause messy\n",
    "-- Use 'IN' to help:\n",
    "\n",
    "SELECT title\n",
    "FROM films\n",
    "WHERE release_year IN (1920, 1930, 1940);"
   ]
  },
  {
   "cell_type": "markdown",
   "metadata": {},
   "source": [
    "NULL values"
   ]
  }
 ],
 "metadata": {
  "language_info": {
   "name": "python"
  }
 },
 "nbformat": 4,
 "nbformat_minor": 2
}
